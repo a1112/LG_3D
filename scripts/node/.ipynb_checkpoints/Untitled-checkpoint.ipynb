{
 "cells": [
  {
   "cell_type": "code",
   "execution_count": 7,
   "id": "659e6c69-a1cf-42c4-93b3-2439031e7f0b",
   "metadata": {},
   "outputs": [],
   "source": [
    "import numpy as np\n",
    "from PIL import Image"
   ]
  },
  {
   "cell_type": "code",
   "execution_count": 5,
   "id": "b8b61e35-b5ad-477b-940f-fb3974e65aca",
   "metadata": {},
   "outputs": [],
   "source": [
    "dt = np.load(fr\"F:\\datasets\\LG_3D_DataBase\\DataSave\\Save_L\\6554\\3D.npy\")"
   ]
  },
  {
   "cell_type": "code",
   "execution_count": 9,
   "id": "edc943e2-cdf9-430f-b47f-ca86b37ee753",
   "metadata": {},
   "outputs": [],
   "source": [
    "mask=Image.open(fr\"F:\\datasets\\LG_3D_DataBase\\DataSave\\Save_L\\6554\\MASK.png\")"
   ]
  },
  {
   "cell_type": "code",
   "execution_count": 11,
   "id": "5cbc620e-404b-4a35-ade6-db51b08175cf",
   "metadata": {},
   "outputs": [],
   "source": [
    "mask=np.asarray(mask)"
   ]
  },
  {
   "cell_type": "code",
   "execution_count": 23,
   "id": "ac087bfd-6031-424e-8ff4-e1f1007e13e5",
   "metadata": {},
   "outputs": [],
   "source": [
    "mask_area=np.count_nonzero(mask)"
   ]
  },
  {
   "cell_type": "code",
   "execution_count": 26,
   "id": "7ada694b-cb00-4b8c-8b79-d1e689ca494f",
   "metadata": {},
   "outputs": [
    {
     "data": {
      "text/plain": [
       "42317.77096335621"
      ]
     },
     "execution_count": 26,
     "metadata": {},
     "output_type": "execute_result"
    }
   ],
   "source": [
    "da_data = dt[mask>0]\n",
    "np.mean(da_data)"
   ]
  },
  {
   "cell_type": "code",
   "execution_count": 34,
   "id": "23624d19-b64d-40e5-b2d2-2b2970095ea7",
   "metadata": {},
   "outputs": [
    {
     "data": {
      "text/plain": [
       "0.010038036254470289"
      ]
     },
     "execution_count": 34,
     "metadata": {},
     "output_type": "execute_result"
    }
   ],
   "source": [
    "up = da_data[da_data>44317]\n",
    "up_c = np.count_nonzero(up)\n",
    "up_c/mask_area *100"
   ]
  },
  {
   "cell_type": "code",
   "execution_count": 33,
   "id": "c055fc1b-99ed-43e3-ab87-e71b7f6fa5b8",
   "metadata": {},
   "outputs": [
    {
     "data": {
      "text/plain": [
       "0.009684369035413266"
      ]
     },
     "execution_count": 33,
     "metadata": {},
     "output_type": "execute_result"
    }
   ],
   "source": []
  },
  {
   "cell_type": "code",
   "execution_count": null,
   "id": "28ae815e-2b58-44cf-b233-d94729ba5b0a",
   "metadata": {},
   "outputs": [],
   "source": []
  }
 ],
 "metadata": {
  "kernelspec": {
   "display_name": "Python 3 (ipykernel)",
   "language": "python",
   "name": "python3"
  },
  "language_info": {
   "codemirror_mode": {
    "name": "ipython",
    "version": 3
   },
   "file_extension": ".py",
   "mimetype": "text/x-python",
   "name": "python",
   "nbconvert_exporter": "python",
   "pygments_lexer": "ipython3",
   "version": "3.11.9"
  }
 },
 "nbformat": 4,
 "nbformat_minor": 5
}
