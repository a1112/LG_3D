{
 "cells": [
  {
   "cell_type": "code",
   "id": "659e6c69-a1cf-42c4-93b3-2439031e7f0b",
   "metadata": {},
   "source": [
    "import numpy as np\n",
    "from PIL import Image"
   ],
   "outputs": [],
   "execution_count": null
  },
  {
   "cell_type": "code",
   "id": "b8b61e35-b5ad-477b-940f-fb3974e65aca",
   "metadata": {},
   "source": [
    "dt = np.load(fr\"F:\\datasets\\LG_3D_DataBase\\DataSave\\Save_L\\6554\\3D.npy\")"
   ],
   "outputs": [],
   "execution_count": null
  },
  {
   "cell_type": "code",
   "id": "edc943e2-cdf9-430f-b47f-ca86b37ee753",
   "metadata": {},
   "source": [
    "mask=Image.open(fr\"F:\\datasets\\LG_3D_DataBase\\DataSave\\Save_L\\6554\\MASK.png\")"
   ],
   "outputs": [],
   "execution_count": null
  },
  {
   "cell_type": "code",
   "id": "5cbc620e-404b-4a35-ade6-db51b08175cf",
   "metadata": {},
   "source": [
    "mask=np.asarray(mask)"
   ],
   "outputs": [],
   "execution_count": null
  },
  {
   "cell_type": "code",
   "id": "ac087bfd-6031-424e-8ff4-e1f1007e13e5",
   "metadata": {},
   "source": [
    "mask_area=np.count_nonzero(mask)"
   ],
   "outputs": [],
   "execution_count": null
  },
  {
   "cell_type": "code",
   "id": "7ada694b-cb00-4b8c-8b79-d1e689ca494f",
   "metadata": {},
   "source": [
    "da_data = dt[mask>0]\n",
    "np.mean(da_data)"
   ],
   "outputs": [],
   "execution_count": null
  },
  {
   "cell_type": "code",
   "id": "23624d19-b64d-40e5-b2d2-2b2970095ea7",
   "metadata": {},
   "source": [
    "up = da_data[da_data>44317]\n",
    "up_c = np.count_nonzero(up)\n",
    "up_c/mask_area *100"
   ],
   "outputs": [],
   "execution_count": null
  },
  {
   "cell_type": "code",
   "id": "c055fc1b-99ed-43e3-ab87-e71b7f6fa5b8",
   "metadata": {},
   "source": [
    "up"
   ],
   "outputs": [],
   "execution_count": null
  },
  {
   "cell_type": "code",
   "id": "28ae815e-2b58-44cf-b233-d94729ba5b0a",
   "metadata": {},
   "source": [
    "from scipy.spatial import Delaunay\n",
    "import numpy as np\n",
    "\n",
    "# 生成点集\n",
    "points = np.random.rand(30, 2)\n"
   ],
   "outputs": [],
   "execution_count": null
  },
  {
   "metadata": {},
   "cell_type": "code",
   "source": [
    "tri = Delaunay(points, qhull_options='Qbb')\n",
    "\n",
    "# 打印剖分结果\n",
    "print(tri.simplices)"
   ],
   "id": "eff41a4c2b9c885c",
   "outputs": [],
   "execution_count": null
  },
  {
   "metadata": {},
   "cell_type": "code",
   "source": [
    "import numpy as np\n",
    "from scipy.spatial import Delaunay\n",
    "import open3d as o3d\n",
    "\n",
    "# 生成三维点集\n",
    "points = np.random.rand(30, 3)  # 30个随机点\n",
    "\n",
    "# 执行 Delaunay 三角剖分\n",
    "tri = Delaunay(points)\n",
    "\n",
    "# 查看 Delaunay 输出的 simplex 数组\n",
    "print(\"Simplices shape:\", tri.simplices.shape)\n",
    "print(\"Simplices dtype:\", tri.simplices.dtype)\n",
    "\n",
    "# 将面索引转换为 int32 类型\n",
    "triangles = np.asarray(tri.simplices).astype(np.int32)\n",
    "\n",
    "# 创建 Open3D 网格\n",
    "mesh = o3d.geometry.TriangleMesh()\n",
    "\n",
    "# 设置顶点\n",
    "mesh.vertices = o3d.utility.Vector3dVector(points)\n",
    "\n",
    "# 设置面\n",
    "mesh.triangles = o3d.utility.Vector3iVector(triangles)\n",
    "\n",
    "# 计算法线\n",
    "mesh.compute_vertex_normals()\n",
    "\n",
    "# 可视化网格\n",
    "o3d.visualization.draw_geometries([mesh])\n"
   ],
   "id": "80a8711d0e69f325",
   "outputs": [],
   "execution_count": null
  },
  {
   "metadata": {},
   "cell_type": "code",
   "source": [
    "import numpy as np\n",
    "from scipy.spatial import Delaunay\n",
    "import open3d as o3d\n",
    "\n",
    "# 生成三维点集\n",
    "points = np.random.rand(30, 3)  # 30个随机点\n",
    "\n",
    "# 执行 Delaunay 三角剖分\n",
    "tri = Delaunay(points)\n",
    "\n",
    "# 获取三角形面索引并检查形状\n",
    "triangles = np.asarray(tri.simplices)\n",
    "print(\"triangles shape:\", triangles.shape)  # 输出应为 (num_faces, 3)\n",
    "\n",
    "# 确保 triangles 数据类型为 int32\n",
    "triangles = triangles.astype(np.int32)\n",
    "print(\"triangles dtype:\", triangles.dtype)  # 应该是 int32\n",
    "\n",
    "# 创建 Open3D 网格\n",
    "mesh = o3d.geometry.TriangleMesh()\n",
    "\n",
    "# 设置顶点\n",
    "mesh.vertices = o3d.utility.Vector3dVector(points)\n",
    "\n",
    "# 设置面\n",
    "mesh.triangles = o3d.utility.Vector3iVector(triangles)\n",
    "\n",
    "# 计算法线\n",
    "mesh.compute_vertex_normals()\n",
    "\n",
    "# 可视化网格\n",
    "o3d.visualization.draw_geometries([mesh])\n"
   ],
   "id": "cda1d51e307cb295",
   "outputs": [],
   "execution_count": null
  },
  {
   "metadata": {
    "ExecuteTime": {
     "end_time": "2024-11-14T15:38:35.464568Z",
     "start_time": "2024-11-14T15:38:21.928482Z"
    }
   },
   "cell_type": "code",
   "source": [
    "import numpy as np\n",
    "import open3d as o3d\n",
    "from scipy.spatial import Delaunay\n",
    "\n",
    "# 生成环形点集\n",
    "def generate_ring_points(radius, n_points, z):\n",
    "    # 均匀分布在 0 到 2*pi 之间\n",
    "    angles = np.linspace(0, 2 * np.pi, n_points, endpoint=False)\n",
    "    points = np.array([(radius * np.cos(angle), radius * np.sin(angle), z) for angle in angles])\n",
    "    return points\n",
    "\n",
    "# 设置环形的半径和点数\n",
    "radius = 1.0  # 半径\n",
    "n_points = 50  # 点的数量\n",
    "\n",
    "# 生成环形点集\n",
    "points = np.vstack([generate_ring_points(1.0, 50, 2), generate_ring_points(1.1, 50, 1)])\n",
    "\n",
    "# 使用 Delaunay 三角剖分\n",
    "tri = Delaunay(points[:, :2])  # 仅使用二维坐标进行 Delaunay 三角剖分\n",
    "\n",
    "# 获取三角形索引\n",
    "triangles = np.asarray(tri.simplices)\n",
    "\n",
    "# 计算每个三角形的法线\n",
    "def compute_normal(v0, v1, v2):\n",
    "    # 计算两个边\n",
    "    edge1 = v1 - v0\n",
    "    edge2 = v2 - v0\n",
    "    # 计算法线\n",
    "    normal = np.cross(edge1, edge2)\n",
    "    normal = normal / np.linalg.norm(normal)  # 归一化\n",
    "    return normal\n",
    "\n",
    "# 筛选有效的三角形\n",
    "valid_triangles = []\n",
    "\n",
    "for triangle in triangles:\n",
    "    # 获取当前三角形的顶点\n",
    "    v0, v1, v2 = points[triangle]\n",
    "    \n",
    "    # 计算三角形的法线\n",
    "    normal = compute_normal(v0, v1, v2)\n",
    "    \n",
    "    # 判断法线的z分量，如果是朝下的法线（即z分量为负），则是底部的面\n",
    "\n",
    "    if normal[2] < 1:  # 只保留法线朝上的面\n",
    "        valid_triangles.append(triangle)\n",
    "\n",
    "# 更新有效的三角形列表\n",
    "valid_triangles = np.array(valid_triangles)\n",
    "\n",
    "# 创建 Open3D 网格对象\n",
    "mesh = o3d.geometry.TriangleMesh()\n",
    "\n",
    "# 设置顶点和三角形\n",
    "mesh.vertices = o3d.utility.Vector3dVector(points)\n",
    "mesh.triangles = o3d.utility.Vector3iVector(valid_triangles)\n",
    "\n",
    "# 计算法线\n",
    "mesh.compute_vertex_normals()\n",
    "\n",
    "# 可视化结果\n",
    "o3d.visualization.draw_geometries([mesh])\n"
   ],
   "id": "1601e1f02e0537e8",
   "outputs": [],
   "execution_count": 27
  },
  {
   "metadata": {},
   "cell_type": "code",
   "outputs": [],
   "execution_count": null,
   "source": "",
   "id": "a05173cbed267d2"
  },
  {
   "metadata": {
    "ExecuteTime": {
     "end_time": "2024-11-14T15:43:41.391468Z",
     "start_time": "2024-11-14T15:40:55.679424Z"
    }
   },
   "cell_type": "code",
   "source": [
    "import numpy as np\n",
    "import open3d as o3d\n",
    "from scipy.spatial import Delaunay\n",
    "\n",
    "# 生成环形点集的函数\n",
    "def generate_ring_points(radius, n_points, z):\n",
    "    angles = np.linspace(0, 2 * np.pi, n_points, endpoint=False)\n",
    "    points = np.array([(radius * np.cos(angle), radius * np.sin(angle), z) for angle in angles])\n",
    "    return points\n",
    "\n",
    "# 生成两个环形网格\n",
    "points1 = generate_ring_points(1.0, 50, 2)  # 半径 1.0, 50 个点\n",
    "points2 = generate_ring_points(2.0, 50, 1)  # 半径 2.0, 50 个点\n",
    "\n",
    "# 使用 Delaunay 三角剖分生成三角形网格\n",
    "tri1 = Delaunay(points1[:, :2])\n",
    "tri2 = Delaunay(points2[:, :2])\n",
    "\n",
    "# 获取三角形索引\n",
    "triangles1 = tri1.simplices\n",
    "triangles2 = tri2.simplices\n",
    "\n",
    "# 合并顶点\n",
    "all_points = np.vstack([points1, points2])  # 合并顶点\n",
    "\n",
    "# 更新第二组三角形的索引（因为第二组顶点是从第一个网格之后的，所以需要加上第一个网格的顶点数）\n",
    "triangles2 += len(points1)\n",
    "\n",
    "# 合并三角形索引\n",
    "all_triangles = np.vstack([triangles1, triangles2])\n",
    "\n",
    "# 创建 Open3D 网格对象\n",
    "mesh = o3d.geometry.TriangleMesh()\n",
    "\n",
    "# 设置顶点和三角形\n",
    "mesh.vertices = o3d.utility.Vector3dVector(all_points)\n",
    "mesh.triangles = o3d.utility.Vector3iVector(all_triangles)\n",
    "\n",
    "# 计算法线\n",
    "mesh.compute_vertex_normals()\n",
    "\n",
    "# 可视化结果\n",
    "o3d.visualization.draw_geometries([mesh])\n"
   ],
   "id": "34929562bd19d930",
   "outputs": [],
   "execution_count": 28
  },
  {
   "metadata": {
    "ExecuteTime": {
     "end_time": "2024-11-14T15:44:59.287084Z",
     "start_time": "2024-11-14T15:44:55.528213Z"
    }
   },
   "cell_type": "code",
   "source": [
    "import numpy as np\n",
    "import open3d as o3d\n",
    "from scipy.spatial import Delaunay\n",
    "\n",
    "# 生成环形点集的函数\n",
    "def generate_ring_points(radius, n_points, z):\n",
    "    angles = np.linspace(0, 2 * np.pi, n_points, endpoint=False)\n",
    "    points = np.array([(radius * np.cos(angle), radius * np.sin(angle), z) for angle in angles])\n",
    "    return points\n",
    "\n",
    "# 生成两个环形网格\n",
    "n_points = 50  # 点的数量\n",
    "points1 = generate_ring_points(1.0, n_points, 2)  # 半径 1.0, z = 2\n",
    "points2 = generate_ring_points(2.0, n_points, 1)  # 半径 2.0, z = 1\n",
    "\n",
    "# 使用 Delaunay 三角剖分生成三角形网格\n",
    "tri1 = Delaunay(points1[:, :2])\n",
    "tri2 = Delaunay(points2[:, :2])\n",
    "\n",
    "# 获取三角形索引\n",
    "triangles1 = tri1.simplices\n",
    "triangles2 = tri2.simplices\n",
    "\n",
    "# 合并顶点\n",
    "all_points = np.vstack([points1, points2])  # 合并顶点\n",
    "\n",
    "# 更新第二组三角形的索引（因为第二组顶点是从第一个网格之后的，所以需要加上第一个网格的顶点数）\n",
    "triangles2 += len(points1)\n",
    "\n",
    "# 合并三角形索引\n",
    "all_triangles = np.vstack([triangles1, triangles2])\n",
    "\n",
    "# 创建 Open3D 网格对象\n",
    "mesh = o3d.geometry.TriangleMesh()\n",
    "\n",
    "# 设置顶点和三角形\n",
    "mesh.vertices = o3d.utility.Vector3dVector(all_points)\n",
    "mesh.triangles = o3d.utility.Vector3iVector(all_triangles)\n",
    "\n",
    "# 计算法线\n",
    "mesh.compute_vertex_normals()\n",
    "\n",
    "# 可视化结果\n",
    "o3d.visualization.draw_geometries([mesh])\n"
   ],
   "id": "2e5ecfc884336632",
   "outputs": [],
   "execution_count": 30
  },
  {
   "metadata": {},
   "cell_type": "code",
   "outputs": [],
   "execution_count": null,
   "source": "",
   "id": "2fbfcadecf6607d6"
  }
 ],
 "metadata": {
  "kernelspec": {
   "display_name": "Python 3 (ipykernel)",
   "language": "python",
   "name": "python3"
  },
  "language_info": {
   "codemirror_mode": {
    "name": "ipython",
    "version": 3
   },
   "file_extension": ".py",
   "mimetype": "text/x-python",
   "name": "python",
   "nbconvert_exporter": "python",
   "pygments_lexer": "ipython3",
   "version": "3.11.9"
  }
 },
 "nbformat": 4,
 "nbformat_minor": 5
}
