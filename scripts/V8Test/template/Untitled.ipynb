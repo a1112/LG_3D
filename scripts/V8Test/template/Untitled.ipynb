{
 "cells": [
  {
   "cell_type": "code",
   "execution_count": 27,
   "id": "1d1cdc20",
   "metadata": {},
   "outputs": [],
   "source": [
    "import os\n",
    "import xml.etree.ElementTree as ET"
   ]
  },
  {
   "cell_type": "code",
   "execution_count": 28,
   "id": "c62ab737",
   "metadata": {},
   "outputs": [],
   "source": [
    "tempFile = os.path.join(os.getcwd(), \"yolo.xml\")\n",
    "tree = ET.parse(tempFile)\n",
    "root = tree.getroot()"
   ]
  },
  {
   "cell_type": "code",
   "execution_count": 29,
   "id": "eb17dfd7",
   "metadata": {},
   "outputs": [
    {
     "data": {
      "text/plain": [
       "[<Element 'folder' at 0x0000016EB2060BD8>,\n",
       " <Element 'filename' at 0x0000016EB2060EF8>,\n",
       " <Element 'path' at 0x0000016EB23C5688>,\n",
       " <Element 'source' at 0x0000016EB23C5868>,\n",
       " <Element 'size' at 0x0000016EB23C5368>,\n",
       " <Element 'segmented' at 0x0000016EB23C5D18>,\n",
       " <Element 'object' at 0x0000016EB23C5EF8>]"
      ]
     },
     "execution_count": 29,
     "metadata": {},
     "output_type": "execute_result"
    }
   ],
   "source": [
    "list(root)"
   ]
  },
  {
   "cell_type": "code",
   "execution_count": 10,
   "id": "45a09380",
   "metadata": {},
   "outputs": [],
   "source": [
    "root.append(root[-1])"
   ]
  },
  {
   "cell_type": "code",
   "execution_count": 11,
   "id": "938f40b3",
   "metadata": {},
   "outputs": [
    {
     "data": {
      "text/plain": [
       "[<Element 'folder' at 0x0000016EB14A9D18>,\n",
       " <Element 'filename' at 0x0000016EB14A9D68>,\n",
       " <Element 'path' at 0x0000016EB14A9DB8>,\n",
       " <Element 'source' at 0x0000016EB14A9E08>,\n",
       " <Element 'size' at 0x0000016EB14A9EA8>,\n",
       " <Element 'segmented' at 0x0000016EB14BE048>,\n",
       " <Element 'object' at 0x0000016EB14BE098>,\n",
       " <Element 'object' at 0x0000016EB14BE098>]"
      ]
     },
     "execution_count": 11,
     "metadata": {},
     "output_type": "execute_result"
    }
   ],
   "source": [
    "list(root)"
   ]
  },
  {
   "cell_type": "code",
   "execution_count": 30,
   "id": "67ebc474",
   "metadata": {},
   "outputs": [],
   "source": [
    "item=root[-1]"
   ]
  },
  {
   "cell_type": "code",
   "execution_count": 15,
   "id": "c62231ec",
   "metadata": {},
   "outputs": [],
   "source": [
    "item.clear()"
   ]
  },
  {
   "cell_type": "code",
   "execution_count": 18,
   "id": "f862e6e3",
   "metadata": {},
   "outputs": [
    {
     "data": {
      "text/plain": [
       "[]"
      ]
     },
     "execution_count": 18,
     "metadata": {},
     "output_type": "execute_result"
    }
   ],
   "source": [
    "list(root[-2])"
   ]
  },
  {
   "cell_type": "code",
   "execution_count": 19,
   "id": "948d3331",
   "metadata": {},
   "outputs": [],
   "source": [
    "import copy"
   ]
  },
  {
   "cell_type": "code",
   "execution_count": 20,
   "id": "2c36a1f9",
   "metadata": {},
   "outputs": [
    {
     "data": {
      "text/plain": [
       "<Element 'annotation' at 0x0000016EB218C0E8>"
      ]
     },
     "execution_count": 20,
     "metadata": {},
     "output_type": "execute_result"
    }
   ],
   "source": [
    "copy.deepcopy(root)"
   ]
  },
  {
   "cell_type": "code",
   "execution_count": 21,
   "id": "765c6ce9",
   "metadata": {},
   "outputs": [
    {
     "data": {
      "text/plain": [
       "<Element 'annotation' at 0x0000016EB13EA7C8>"
      ]
     },
     "execution_count": 21,
     "metadata": {},
     "output_type": "execute_result"
    }
   ],
   "source": [
    "copy.deepcopy(root)"
   ]
  },
  {
   "cell_type": "code",
   "execution_count": 25,
   "id": "6c39532e",
   "metadata": {},
   "outputs": [],
   "source": [
    "root.remove(root[-1])"
   ]
  },
  {
   "cell_type": "code",
   "execution_count": 26,
   "id": "115d3a63",
   "metadata": {},
   "outputs": [
    {
     "data": {
      "text/plain": [
       "[<Element 'folder' at 0x0000016EB14A9D18>,\n",
       " <Element 'filename' at 0x0000016EB14A9D68>,\n",
       " <Element 'path' at 0x0000016EB14A9DB8>,\n",
       " <Element 'source' at 0x0000016EB14A9E08>,\n",
       " <Element 'size' at 0x0000016EB14A9EA8>,\n",
       " <Element 'segmented' at 0x0000016EB14BE048>]"
      ]
     },
     "execution_count": 26,
     "metadata": {},
     "output_type": "execute_result"
    }
   ],
   "source": [
    "list(root)"
   ]
  },
  {
   "cell_type": "code",
   "execution_count": 33,
   "id": "5815455c",
   "metadata": {},
   "outputs": [
    {
     "data": {
      "text/plain": [
       "'char'"
      ]
     },
     "execution_count": 33,
     "metadata": {},
     "output_type": "execute_result"
    }
   ],
   "source": [
    "item[0].text"
   ]
  },
  {
   "cell_type": "code",
   "execution_count": 34,
   "id": "dc22bb60",
   "metadata": {},
   "outputs": [
    {
     "data": {
      "text/plain": [
       "'Unspecified'"
      ]
     },
     "execution_count": 34,
     "metadata": {},
     "output_type": "execute_result"
    }
   ],
   "source": [
    "item[1].text"
   ]
  },
  {
   "cell_type": "code",
   "execution_count": 35,
   "id": "de9d849b",
   "metadata": {},
   "outputs": [
    {
     "data": {
      "text/plain": [
       "'1'"
      ]
     },
     "execution_count": 35,
     "metadata": {},
     "output_type": "execute_result"
    }
   ],
   "source": [
    "item[2].text"
   ]
  },
  {
   "cell_type": "code",
   "execution_count": 36,
   "id": "d9b43655",
   "metadata": {},
   "outputs": [
    {
     "data": {
      "text/plain": [
       "'0'"
      ]
     },
     "execution_count": 36,
     "metadata": {},
     "output_type": "execute_result"
    }
   ],
   "source": [
    "item[3].text"
   ]
  },
  {
   "cell_type": "code",
   "execution_count": 37,
   "id": "c82bc563",
   "metadata": {},
   "outputs": [
    {
     "data": {
      "text/plain": [
       "[<Element 'name' at 0x0000016EB23C50E8>,\n",
       " <Element 'pose' at 0x0000016EB23C59A8>,\n",
       " <Element 'truncated' at 0x0000016EB23C5B88>,\n",
       " <Element 'difficult' at 0x0000016EB23C5D68>,\n",
       " <Element 'bndbox' at 0x0000016EB23C5E08>]"
      ]
     },
     "execution_count": 37,
     "metadata": {},
     "output_type": "execute_result"
    }
   ],
   "source": [
    "list(item)"
   ]
  },
  {
   "cell_type": "code",
   "execution_count": null,
   "id": "d9245611",
   "metadata": {},
   "outputs": [],
   "source": []
  }
 ],
 "metadata": {
  "kernelspec": {
   "display_name": "Python 3",
   "language": "python",
   "name": "python3"
  },
  "language_info": {
   "codemirror_mode": {
    "name": "ipython",
    "version": 3
   },
   "file_extension": ".py",
   "mimetype": "text/x-python",
   "name": "python",
   "nbconvert_exporter": "python",
   "pygments_lexer": "ipython3",
   "version": "3.7.9"
  }
 },
 "nbformat": 4,
 "nbformat_minor": 5
}
